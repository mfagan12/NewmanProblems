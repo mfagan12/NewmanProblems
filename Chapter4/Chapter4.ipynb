{
 "cells": [
  {
   "cell_type": "markdown",
   "metadata": {},
   "source": [
    "# Chapter 4"
   ]
  },
  {
   "cell_type": "code",
   "execution_count": 1,
   "metadata": {},
   "outputs": [],
   "source": [
    "import numpy as np"
   ]
  },
  {
   "cell_type": "markdown",
   "metadata": {},
   "source": [
    "## Exercise 4.2\n",
    "\n",
    "a) Write a program that takes as input three numbers $a$, $b$, and $c$, and prints out the solutions to the quadratic equation $ax^2 + bx + c = 0$ using the standard formula\n",
    "$$ x = \\frac{-b \\pm \\sqrt{b^2 - 4ac}}{2a}. $$\n",
    "Use your program to compute the solutions of $0.001x^2 + 1000x + 0.001 = 0$."
   ]
  },
  {
   "cell_type": "code",
   "execution_count": 4,
   "metadata": {},
   "outputs": [],
   "source": [
    "def quadratic_equation(a, b, c):\n",
    "    return (-b + (b**2 - 4*a*c)**(0.5)) / (2*a), (-b - (b**2 - 4*a*c)**(0.5)) / (2*a)"
   ]
  },
  {
   "cell_type": "code",
   "execution_count": 5,
   "metadata": {},
   "outputs": [
    {
     "name": "stdout",
     "output_type": "stream",
     "text": [
      "(-9.999894245993346e-07, -999999.999999)\n"
     ]
    }
   ],
   "source": [
    "print(quadratic_equation(0.001, 1000, 0.001))"
   ]
  },
  {
   "cell_type": "markdown",
   "metadata": {},
   "source": [
    "## Exercise 4.4"
   ]
  },
  {
   "cell_type": "markdown",
   "metadata": {},
   "source": [
    "a)"
   ]
  },
  {
   "cell_type": "code",
   "execution_count": 33,
   "metadata": {},
   "outputs": [],
   "source": [
    "def riemann_sum(func, a, b, N):\n",
    "    '''\n",
    "    Arguments:\n",
    "    func -- function -- one-variable function to integrate\n",
    "    a -- float -- lower bound of integration\n",
    "    b -- float -- upper bound of integration\n",
    "    N -- int -- number of points to use in approximation\n",
    "    '''\n",
    "    h = (b-a)/N\n",
    "    return sum((h*func(a + h*k) for k in range(1, N+1)))"
   ]
  },
  {
   "cell_type": "code",
   "execution_count": 34,
   "metadata": {},
   "outputs": [
    {
     "name": "stdout",
     "output_type": "stream",
     "text": [
      "1.570794663715291\n"
     ]
    }
   ],
   "source": [
    "func = lambda x: (1 - x**2)**(1/2)\n",
    "print(riemann_sum(func, -1, 1, 10000))"
   ]
  },
  {
   "cell_type": "markdown",
   "metadata": {},
   "source": [
    "This is approximately $\\pi/2$, as expected."
   ]
  }
 ],
 "metadata": {
  "kernelspec": {
   "display_name": "Python 3",
   "language": "python",
   "name": "python3"
  },
  "language_info": {
   "codemirror_mode": {
    "name": "ipython",
    "version": 3
   },
   "file_extension": ".py",
   "mimetype": "text/x-python",
   "name": "python",
   "nbconvert_exporter": "python",
   "pygments_lexer": "ipython3",
   "version": "3.8.5"
  }
 },
 "nbformat": 4,
 "nbformat_minor": 4
}
